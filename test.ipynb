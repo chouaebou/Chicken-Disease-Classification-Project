{
 "cells": [
  {
   "cell_type": "code",
   "execution_count": 1,
   "metadata": {},
   "outputs": [],
   "source": [
    "# pip install python-box"
   ]
  },
  {
   "cell_type": "code",
   "execution_count": 2,
   "metadata": {},
   "outputs": [
    {
     "ename": "CustomException",
     "evalue": "Error occurred in python script name [d:\\LaboratoireDeveloppement_TI\\IA\\Machine Learning\\deeplearningproject\\Chicken-Disease-Classification-Project\\src\\utils\\common.py] line number [58] error message [unable to handle arg {'artifacts_root': 'artifacts', 'data_ingestion': {'root_dir': 'artifacts/data_ingestion', 'source_URL': 'https://github.com/entbappy/Branching-tutorial/raw/master/Chicken-fecal-images.zip', 'local_data_file': 'artifacts/data_ingestion/data.zip', 'unzip_dir': 'artifacts/data_ingestion'}} of type <class 'dict'>]",
     "output_type": "error",
     "traceback": [
      "\u001b[1;31m---------------------------------------------------------------------------\u001b[0m",
      "\u001b[1;31mHiYaPyCoInvocationException\u001b[0m               Traceback (most recent call last)",
      "File \u001b[1;32md:\\LaboratoireDeveloppement_TI\\IA\\Machine Learning\\deeplearningproject\\Chicken-Disease-Classification-Project\\src\\utils\\common.py:58\u001b[0m, in \u001b[0;36mread_yaml\u001b[1;34m(path_to_yaml)\u001b[0m\n\u001b[0;32m     56\u001b[0m     logging\u001b[38;5;241m.\u001b[39minfo(\u001b[38;5;124mf\u001b[39m\u001b[38;5;124m\"\u001b[39m\u001b[38;5;124myaml file: \u001b[39m\u001b[38;5;132;01m{\u001b[39;00mpath_to_yaml\u001b[38;5;132;01m}\u001b[39;00m\u001b[38;5;124m loaded successfully.\u001b[39m\u001b[38;5;124m\"\u001b[39m)\n\u001b[1;32m---> 58\u001b[0m     \u001b[38;5;28;01mreturn\u001b[39;00m ConfigBox(content)\n\u001b[0;32m     59\u001b[0m \u001b[38;5;66;03m# config_data = {\u001b[39;00m\n\u001b[0;32m     60\u001b[0m \u001b[38;5;66;03m#     \"app\": {\u001b[39;00m\n\u001b[0;32m     61\u001b[0m \u001b[38;5;66;03m#         \"name\": \"MyApp\",\u001b[39;00m\n\u001b[1;32m   (...)\u001b[0m\n\u001b[0;32m     74\u001b[0m \n\u001b[0;32m     75\u001b[0m \u001b[38;5;66;03m# return config\u001b[39;00m\n",
      "File \u001b[1;32mc:\\Users\\User\\anaconda3\\Lib\\site-packages\\config_box\\main.py:12\u001b[0m, in \u001b[0;36mConfigBox.__init__\u001b[1;34m(self, *args, **kwargs)\u001b[0m\n\u001b[0;32m     11\u001b[0m     \u001b[38;5;28mself\u001b[39m\u001b[38;5;241m.\u001b[39mpaths\u001b[38;5;241m.\u001b[39mappend(path)\n\u001b[1;32m---> 12\u001b[0m \u001b[38;5;28mself\u001b[39m\u001b[38;5;241m.\u001b[39mconfig \u001b[38;5;241m=\u001b[39m hiyapyco\u001b[38;5;241m.\u001b[39mload(\u001b[38;5;241m*\u001b[39margs, \u001b[38;5;241m*\u001b[39m\u001b[38;5;241m*\u001b[39mkwargs)\n",
      "File \u001b[1;32mc:\\Users\\User\\anaconda3\\Lib\\site-packages\\hiyapyco\\__init__.py:599\u001b[0m, in \u001b[0;36mload\u001b[1;34m(*args, **kwargs)\u001b[0m\n\u001b[0;32m    578\u001b[0m \u001b[38;5;250m\u001b[39m\u001b[38;5;124;03m\"\"\"\u001b[39;00m\n\u001b[0;32m    579\u001b[0m \u001b[38;5;124;03mLoad a Hierarchical Yaml Python Config\u001b[39;00m\n\u001b[0;32m    580\u001b[0m \u001b[38;5;124;03m--------------------------------------\u001b[39;00m\n\u001b[1;32m   (...)\u001b[0m\n\u001b[0;32m    597\u001b[0m \u001b[38;5;124;03mdepending on the yaml files.\u001b[39;00m\n\u001b[0;32m    598\u001b[0m \u001b[38;5;124;03m\"\"\"\u001b[39;00m\n\u001b[1;32m--> 599\u001b[0m hiyapyco \u001b[38;5;241m=\u001b[39m HiYaPyCo(\u001b[38;5;241m*\u001b[39margs, \u001b[38;5;241m*\u001b[39m\u001b[38;5;241m*\u001b[39mkwargs)\n\u001b[0;32m    600\u001b[0m \u001b[38;5;28;01mreturn\u001b[39;00m hiyapyco\u001b[38;5;241m.\u001b[39mdata()\n",
      "File \u001b[1;32mc:\\Users\\User\\anaconda3\\Lib\\site-packages\\hiyapyco\\__init__.py:223\u001b[0m, in \u001b[0;36mHiYaPyCo.__init__\u001b[1;34m(self, *args, **kwargs)\u001b[0m\n\u001b[0;32m    222\u001b[0m \u001b[38;5;28;01mfor\u001b[39;00m arg \u001b[38;5;129;01min\u001b[39;00m args:\n\u001b[1;32m--> 223\u001b[0m     \u001b[38;5;28mself\u001b[39m\u001b[38;5;241m.\u001b[39m_updatefiles(arg)\n\u001b[0;32m    225\u001b[0m \u001b[38;5;28;01mfor\u001b[39;00m yamlfile \u001b[38;5;129;01min\u001b[39;00m \u001b[38;5;28mself\u001b[39m\u001b[38;5;241m.\u001b[39m_files[:]:\n",
      "File \u001b[1;32mc:\\Users\\User\\anaconda3\\Lib\\site-packages\\hiyapyco\\__init__.py:303\u001b[0m, in \u001b[0;36mHiYaPyCo._updatefiles\u001b[1;34m(self, arg)\u001b[0m\n\u001b[0;32m    302\u001b[0m \u001b[38;5;28;01melse\u001b[39;00m:\n\u001b[1;32m--> 303\u001b[0m     \u001b[38;5;28;01mraise\u001b[39;00m HiYaPyCoInvocationException(\n\u001b[0;32m    304\u001b[0m         \u001b[38;5;124m'\u001b[39m\u001b[38;5;124munable to handle arg \u001b[39m\u001b[38;5;132;01m%s\u001b[39;00m\u001b[38;5;124m of type \u001b[39m\u001b[38;5;132;01m%s\u001b[39;00m\u001b[38;5;124m'\u001b[39m \u001b[38;5;241m%\u001b[39m (arg, \u001b[38;5;28mtype\u001b[39m(arg),)\n\u001b[0;32m    305\u001b[0m         )\n",
      "\u001b[1;31mHiYaPyCoInvocationException\u001b[0m: unable to handle arg {'artifacts_root': 'artifacts', 'data_ingestion': {'root_dir': 'artifacts/data_ingestion', 'source_URL': 'https://github.com/entbappy/Branching-tutorial/raw/master/Chicken-fecal-images.zip', 'local_data_file': 'artifacts/data_ingestion/data.zip', 'unzip_dir': 'artifacts/data_ingestion'}} of type <class 'dict'>",
      "\nDuring handling of the above exception, another exception occurred:\n",
      "\u001b[1;31mCustomException\u001b[0m                           Traceback (most recent call last)",
      "Cell \u001b[1;32mIn[2], line 24\u001b[0m\n\u001b[0;32m     21\u001b[0m config_filepath \u001b[38;5;241m=\u001b[39m CONFIG_FILE_PATH\n\u001b[0;32m     22\u001b[0m params_filepath \u001b[38;5;241m=\u001b[39m PARAMS_FILE_PATH\n\u001b[1;32m---> 24\u001b[0m config \u001b[38;5;241m=\u001b[39m read_yaml(config_filepath)\n",
      "File \u001b[1;32md:\\LaboratoireDeveloppement_TI\\IA\\Machine Learning\\deeplearningproject\\Chicken-Disease-Classification-Project\\src\\utils\\common.py:80\u001b[0m, in \u001b[0;36mread_yaml\u001b[1;34m(path_to_yaml)\u001b[0m\n\u001b[0;32m     78\u001b[0m     \u001b[38;5;28;01mraise\u001b[39;00m CustomException(bx, sys)   \n\u001b[0;32m     79\u001b[0m \u001b[38;5;28;01mexcept\u001b[39;00m \u001b[38;5;167;01mException\u001b[39;00m \u001b[38;5;28;01mas\u001b[39;00m e:\n\u001b[1;32m---> 80\u001b[0m     \u001b[38;5;28;01mraise\u001b[39;00m CustomException(e, sys)\n",
      "\u001b[1;31mCustomException\u001b[0m: Error occurred in python script name [d:\\LaboratoireDeveloppement_TI\\IA\\Machine Learning\\deeplearningproject\\Chicken-Disease-Classification-Project\\src\\utils\\common.py] line number [58] error message [unable to handle arg {'artifacts_root': 'artifacts', 'data_ingestion': {'root_dir': 'artifacts/data_ingestion', 'source_URL': 'https://github.com/entbappy/Branching-tutorial/raw/master/Chicken-fecal-images.zip', 'local_data_file': 'artifacts/data_ingestion/data.zip', 'unzip_dir': 'artifacts/data_ingestion'}} of type <class 'dict'>]"
     ]
    }
   ],
   "source": [
    "from box import ConfigBox\n",
    "from src.utils.common import read_yaml\n",
    "from src.constants import *\n",
    "\n",
    "# Define your configuration as a dictionary\n",
    "# config_data = {\n",
    "#     \"app\": {\n",
    "#         \"name\": \"MyApp\",\n",
    "#         \"version\": \"1.0\",\n",
    "#         \"debug\": True\n",
    "#     },\n",
    "#     \"database\": {\n",
    "#         \"host\": \"localhost\",\n",
    "#         \"port\": 5432,\n",
    "#         \"username\": \"admin\",\n",
    "#         \"password\": \"password\"\n",
    "#     }\n",
    "# }\n",
    "# # Load the configuration into a ConfigBox object\n",
    "# config = ConfigBox(config_data)\n",
    "config_filepath = CONFIG_FILE_PATH\n",
    "params_filepath = PARAMS_FILE_PATH\n",
    "        \n",
    "config = read_yaml(config_filepath)\n",
    "# params = read_yaml(params_filepath) \n",
    "# print(f\"App Name from YAML: {config.data_ingestion.source_URL}\")"
   ]
  },
  {
   "cell_type": "code",
   "execution_count": null,
   "metadata": {},
   "outputs": [
    {
     "name": "stdout",
     "output_type": "stream",
     "text": [
      "App Name: MyApp\n",
      "Database Host: localhost\n"
     ]
    }
   ],
   "source": [
    "# Accessing configuration settings\n",
    "app_name = config.app.name\n",
    "db_host = config.database.host\n",
    "print(f\"App Name: {app_name}\")\n",
    "print(f\"Database Host: {db_host}\")"
   ]
  },
  {
   "cell_type": "code",
   "execution_count": null,
   "metadata": {},
   "outputs": [
    {
     "name": "stdout",
     "output_type": "stream",
     "text": [
      "App Name from YAML: https://github.com/entbappy/Branching-tutorial/raw/master/Chicken-fecal-images.zip\n"
     ]
    }
   ],
   "source": [
    "import yaml\n",
    "\n",
    "# Load configuration from a YAML file\n",
    "with open(\"config/config.yaml\", \"r\") as file:\n",
    "    config_data = yaml.safe_load(file)\n",
    "config = ConfigBox(config_data)\n",
    "# Access settings\n",
    "print(f\"App Name from YAML: {config.data_ingestion.source_URL}\")"
   ]
  }
 ],
 "metadata": {
  "kernelspec": {
   "display_name": "base",
   "language": "python",
   "name": "python3"
  },
  "language_info": {
   "codemirror_mode": {
    "name": "ipython",
    "version": 3
   },
   "file_extension": ".py",
   "mimetype": "text/x-python",
   "name": "python",
   "nbconvert_exporter": "python",
   "pygments_lexer": "ipython3",
   "version": "3.12.7"
  }
 },
 "nbformat": 4,
 "nbformat_minor": 2
}
